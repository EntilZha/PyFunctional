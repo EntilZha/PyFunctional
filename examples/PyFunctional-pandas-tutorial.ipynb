{
 "cells": [
  {
   "cell_type": "code",
   "execution_count": 7,
   "metadata": {
    "collapsed": true
   },
   "outputs": [],
   "source": [
    "from functional import seq\n",
    "import pandas as pd"
   ]
  },
  {
   "cell_type": "code",
   "execution_count": 3,
   "metadata": {
    "collapsed": false
   },
   "outputs": [
    {
     "name": "stdout",
     "output_type": "stream",
     "text": [
      "PyFunctional-pandas-tutorial.ipynb  chat_logs.jsonl  users.db\r\n",
      "camping_purchases.csv\t\t    gear_list.txt    users.json\r\n"
     ]
    }
   ],
   "source": [
    "!ls"
   ]
  },
  {
   "cell_type": "code",
   "execution_count": 28,
   "metadata": {
    "collapsed": false,
    "scrolled": true
   },
   "outputs": [
    {
     "name": "stdout",
     "output_type": "stream",
     "text": [
      "1,tent,300\r\n",
      "2,food,100\r\n",
      "3,shoes,200\r\n",
      "4,sleeping bag, 350\r\n",
      "5,stove,100\r\n",
      "6,backpack,200\r\n",
      "7,sunscreen,15\r\n",
      "8,plates,10"
     ]
    }
   ],
   "source": [
    "# Data file this notebook works with\n",
    "cat camping_purchases.csv"
   ]
  },
  {
   "cell_type": "code",
   "execution_count": 23,
   "metadata": {
    "collapsed": false
   },
   "outputs": [
    {
     "data": {
      "text/html": [
       "<div>\n",
       "<table border=\"1\" class=\"dataframe\">\n",
       "  <thead>\n",
       "    <tr style=\"text-align: right;\">\n",
       "      <th></th>\n",
       "      <th>0</th>\n",
       "      <th>1</th>\n",
       "      <th>2</th>\n",
       "    </tr>\n",
       "  </thead>\n",
       "  <tbody>\n",
       "    <tr>\n",
       "      <th>0</th>\n",
       "      <td>1</td>\n",
       "      <td>tent</td>\n",
       "      <td>300</td>\n",
       "    </tr>\n",
       "    <tr>\n",
       "      <th>1</th>\n",
       "      <td>2</td>\n",
       "      <td>food</td>\n",
       "      <td>100</td>\n",
       "    </tr>\n",
       "    <tr>\n",
       "      <th>2</th>\n",
       "      <td>3</td>\n",
       "      <td>shoes</td>\n",
       "      <td>200</td>\n",
       "    </tr>\n",
       "    <tr>\n",
       "      <th>3</th>\n",
       "      <td>4</td>\n",
       "      <td>sleeping bag</td>\n",
       "      <td>350</td>\n",
       "    </tr>\n",
       "    <tr>\n",
       "      <th>4</th>\n",
       "      <td>5</td>\n",
       "      <td>stove</td>\n",
       "      <td>100</td>\n",
       "    </tr>\n",
       "    <tr>\n",
       "      <th>5</th>\n",
       "      <td>6</td>\n",
       "      <td>backpack</td>\n",
       "      <td>200</td>\n",
       "    </tr>\n",
       "    <tr>\n",
       "      <th>6</th>\n",
       "      <td>7</td>\n",
       "      <td>sunscreen</td>\n",
       "      <td>15</td>\n",
       "    </tr>\n",
       "    <tr>\n",
       "      <th>7</th>\n",
       "      <td>8</td>\n",
       "      <td>plates</td>\n",
       "      <td>10</td>\n",
       "    </tr>\n",
       "  </tbody>\n",
       "</table>\n",
       "</div>"
      ],
      "text/plain": [
       "   0             1    2\n",
       "0  1          tent  300\n",
       "1  2          food  100\n",
       "2  3         shoes  200\n",
       "3  4  sleeping bag  350\n",
       "4  5         stove  100\n",
       "5  6      backpack  200\n",
       "6  7     sunscreen   15\n",
       "7  8        plates   10"
      ]
     },
     "execution_count": 23,
     "metadata": {},
     "output_type": "execute_result"
    }
   ],
   "source": [
    "# Load the initial data using pandas, possibly do some work in pandas\n",
    "df = pd.read_csv(\"camping_purchases.csv\", header=None)\n",
    "df"
   ]
  },
  {
   "cell_type": "code",
   "execution_count": 24,
   "metadata": {
    "collapsed": false
   },
   "outputs": [
    {
     "data": {
      "text/html": [
       "<table>\n",
       "<tr><td style=\"text-align: right;\">1</td><td>tent        </td><td style=\"text-align: right;\">300</td></tr>\n",
       "<tr><td style=\"text-align: right;\">2</td><td>food        </td><td style=\"text-align: right;\">100</td></tr>\n",
       "<tr><td style=\"text-align: right;\">3</td><td>shoes       </td><td style=\"text-align: right;\">200</td></tr>\n",
       "<tr><td style=\"text-align: right;\">4</td><td>sleeping bag</td><td style=\"text-align: right;\">350</td></tr>\n",
       "<tr><td style=\"text-align: right;\">5</td><td>stove       </td><td style=\"text-align: right;\">100</td></tr>\n",
       "<tr><td style=\"text-align: right;\">6</td><td>backpack    </td><td style=\"text-align: right;\">200</td></tr>\n",
       "<tr><td style=\"text-align: right;\">7</td><td>sunscreen   </td><td style=\"text-align: right;\"> 15</td></tr>\n",
       "<tr><td style=\"text-align: right;\">8</td><td>plates      </td><td style=\"text-align: right;\"> 10</td></tr>\n",
       "</table>"
      ],
      "text/plain": [
       "[array([1, 'tent', 300], dtype=object), array([2, 'food', 100], dtype=object), array([3, 'shoes', 200], dtype=object), array([4, 'sleeping bag', 350], dtype=object), array([5, 'stove', 100], dtype=object), array([6, 'backpack', 200], dtype=object), array([7, 'sunscreen', 15], dtype=object), array([8, 'plates', 10], dtype=object)]"
      ]
     },
     "execution_count": 24,
     "metadata": {},
     "output_type": "execute_result"
    }
   ],
   "source": [
    "# This shows PyFunctional using the dataframe correctly.\n",
    "# PyFunctional also detects the notebook environment and that the data is table like\n",
    "# so renders a nice HTML table representation.\n",
    "seq(df)"
   ]
  },
  {
   "cell_type": "code",
   "execution_count": 25,
   "metadata": {
    "collapsed": false
   },
   "outputs": [
    {
     "data": {
      "text/plain": [
       "[array([1, 'tent', 300], dtype=object),\n",
       " array([2, 'food', 100], dtype=object),\n",
       " array([3, 'shoes', 200], dtype=object),\n",
       " array([4, 'sleeping bag', 350], dtype=object),\n",
       " array([5, 'stove', 100], dtype=object),\n",
       " array([6, 'backpack', 200], dtype=object),\n",
       " array([7, 'sunscreen', 15], dtype=object),\n",
       " array([8, 'plates', 10], dtype=object)]"
      ]
     },
     "execution_count": 25,
     "metadata": {},
     "output_type": "execute_result"
    }
   ],
   "source": [
    "# Turning this into a list can see that the sequence is a list of rows.\n",
    "# They are arrays since that is how pandas outputs lists of rows\n",
    "seq(df).list()"
   ]
  },
  {
   "cell_type": "code",
   "execution_count": 26,
   "metadata": {
    "collapsed": false
   },
   "outputs": [
    {
     "data": {
      "text/html": [
       "<table>\n",
       "<tr><td style=\"text-align: right;\">1</td><td>tent        </td><td style=\"text-align: right;\"> 300</td></tr>\n",
       "<tr><td style=\"text-align: right;\">2</td><td>food        </td><td style=\"text-align: right;\"> 100</td></tr>\n",
       "<tr><td style=\"text-align: right;\">3</td><td>shoes       </td><td style=\"text-align: right;\"> 200</td></tr>\n",
       "<tr><td style=\"text-align: right;\">4</td><td>sleeping bag</td><td style=\"text-align: right;\"> 350</td></tr>\n",
       "<tr><td style=\"text-align: right;\">5</td><td>stove       </td><td style=\"text-align: right;\"> 100</td></tr>\n",
       "<tr><td style=\"text-align: right;\">6</td><td>backpack    </td><td style=\"text-align: right;\"> 200</td></tr>\n",
       "<tr><td style=\"text-align: right;\">7</td><td>sunscreen   </td><td style=\"text-align: right;\">  15</td></tr>\n",
       "<tr><td style=\"text-align: right;\">8</td><td>plates      </td><td style=\"text-align: right;\">  10</td></tr>\n",
       "</table>"
      ],
      "text/plain": [
       "[['1', 'tent', '300'], ['2', 'food', '100'], ['3', 'shoes', '200'], ['4', 'sleeping bag', ' 350'], ['5', 'stove', '100'], ['6', 'backpack', '200'], ['7', 'sunscreen', '15'], ['8', 'plates', '10']]"
      ]
     },
     "execution_count": 26,
     "metadata": {},
     "output_type": "execute_result"
    }
   ],
   "source": [
    "# Show representation using PyFunctional's csv parsing\n",
    "seq.csv(\"camping_purchases.csv\")"
   ]
  },
  {
   "cell_type": "code",
   "execution_count": 27,
   "metadata": {
    "collapsed": false
   },
   "outputs": [
    {
     "data": {
      "text/plain": [
       "[['1', 'tent', '300'],\n",
       " ['2', 'food', '100'],\n",
       " ['3', 'shoes', '200'],\n",
       " ['4', 'sleeping bag', ' 350'],\n",
       " ['5', 'stove', '100'],\n",
       " ['6', 'backpack', '200'],\n",
       " ['7', 'sunscreen', '15'],\n",
       " ['8', 'plates', '10']]"
      ]
     },
     "execution_count": 27,
     "metadata": {},
     "output_type": "execute_result"
    }
   ],
   "source": [
    "# PyFunctional doesn't try to parse the columns, perhaps an area for improvement\n",
    "seq.csv(\"camping_purchases.csv\").list()"
   ]
  },
  {
   "cell_type": "code",
   "execution_count": null,
   "metadata": {
    "collapsed": true
   },
   "outputs": [],
   "source": []
  }
 ],
 "metadata": {
  "anaconda-cloud": {},
  "kernelspec": {
   "display_name": "Python [default]",
   "language": "python",
   "name": "python3"
  },
  "language_info": {
   "codemirror_mode": {
    "name": "ipython",
    "version": 3
   },
   "file_extension": ".py",
   "mimetype": "text/x-python",
   "name": "python",
   "nbconvert_exporter": "python",
   "pygments_lexer": "ipython3",
   "version": "3.11.4"
  }
 },
 "nbformat": 4,
 "nbformat_minor": 0
}
